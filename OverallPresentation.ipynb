{
 "cells": [
  {
   "cell_type": "markdown",
   "id": "4384873b-ba85-4ed8-b14f-5db4cc8df2ad",
   "metadata": {},
   "source": [
    "## Stuti Shukla"
   ]
  },
  {
   "cell_type": "markdown",
   "id": "11111db3-6721-4c0b-b3c0-51312ac85e03",
   "metadata": {},
   "source": [
    "## student ID: 47489278"
   ]
  },
  {
   "cell_type": "markdown",
   "id": "6f556962-41d9-4fe6-84c6-36cf7eb342a8",
   "metadata": {},
   "source": [
    "### Commit history"
   ]
  },
  {
   "cell_type": "markdown",
   "id": "ea5c70a9-31dc-4c66-92fd-632a44872bc6",
   "metadata": {},
   "source": [
    "There are a total of 4 portfolios in data science. I have committed the following changes in all of them\n",
    "\n",
    "Portfolio 1: 10 commits  \n",
    "Portfolio 2: 16 commits  \n",
    "Portfolio 3: 12 commits  \n",
    "Portfolio 4: 10 commits  \n",
    "\n",
    "* Portfolio 1 (10 Commits):\n",
    "In my first portfolio, I started with the basics. I learned to handle missing data, use the groupby function, calculate summary statistics, and create data visualizations.\n",
    "\n",
    "* Portfolio 2 (16 Commits):\n",
    "In the second portfolio, I delved deeper into data science. I explored boxplots, dealt with outliers, used linear regression, and studied correlation between data points.\n",
    "\n",
    "* Portfolio 3 (12 Commits):\n",
    "The third portfolio was about refining my skills. I worked with missing data, histograms, heatmaps, clustering, classification, and logistic regression models. I also learned about splitting data for better results.\n",
    "\n",
    "* Portfolio 4 (10 Commits):\n",
    "The final portfolio was a comprehensive project. I handled missing data, Linear and polynomial regression models and a confusion matrix for classification, aligning with specific project objectives.\n",
    "\n",
    "These portfolios show my dedication to learning and applying data science skills. I've grown into a well-rounded data scientist, ready for future challenges.\n",
    "\n"
   ]
  },
  {
   "cell_type": "markdown",
   "id": "573887ce-bf33-4bef-8ed0-4ced7033b0ba",
   "metadata": {},
   "source": [
    "### Readme files"
   ]
  },
  {
   "cell_type": "markdown",
   "id": "46eb7864-0c53-4338-bcd4-66fc53fd3260",
   "metadata": {},
   "source": [
    "I have added Readme files to all 4 portfolios at the time when I submitted them."
   ]
  },
  {
   "cell_type": "markdown",
   "id": "6a00bc41-46de-4870-91e8-7998fd684aa9",
   "metadata": {},
   "source": [
    "### Summary"
   ]
  },
  {
   "cell_type": "markdown",
   "id": "eca0f7c5-ff6a-4832-92c0-8f00cadef66d",
   "metadata": {},
   "source": [
    "In each portfolio, I demonstrated my skill in using various tools to analyze data. I showed my expertise in handling missing values, using the groupby function, and creating insightful visualizations like boxplots, histograms, and heatmaps. I also worked with models like linear regression, logistic regression, and KNN classification, proving my grasp of predictive and classification analysis.\n",
    "\n",
    "Completing and submitting all four portfolios underscores my dedication to learning and improving in data science. I didn't just grasp theoretical concepts; I applied them to real-world datasets, vital for a well-rounded understanding.\n",
    "\n",
    "Covering diverse topics and techniques, I've built a strong data science foundation applicable to various problems. I've honed skills in data manipulation, analysis, and modeling, crucial for any data scientist.\n",
    "\n",
    "In summary, my four portfolios reflect my growth as a data science student. I've displayed my ability to work with different datasets, employ various techniques, and extract meaningful insights. I'll keep building on this foundation, exploring new concepts, and tackling more complex data science challenges ahead."
   ]
  }
 ],
 "metadata": {
  "kernelspec": {
   "display_name": "Python 3 (ipykernel)",
   "language": "python",
   "name": "python3"
  },
  "language_info": {
   "codemirror_mode": {
    "name": "ipython",
    "version": 3
   },
   "file_extension": ".py",
   "mimetype": "text/x-python",
   "name": "python",
   "nbconvert_exporter": "python",
   "pygments_lexer": "ipython3",
   "version": "3.11.3"
  }
 },
 "nbformat": 4,
 "nbformat_minor": 5
}
