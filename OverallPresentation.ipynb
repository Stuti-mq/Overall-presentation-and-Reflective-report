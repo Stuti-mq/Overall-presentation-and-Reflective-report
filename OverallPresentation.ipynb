{
 "cells": [
  {
   "cell_type": "markdown",
   "id": "4384873b-ba85-4ed8-b14f-5db4cc8df2ad",
   "metadata": {},
   "source": [
    "## Stuti Shukla"
   ]
  },
  {
   "cell_type": "markdown",
   "id": "11111db3-6721-4c0b-b3c0-51312ac85e03",
   "metadata": {},
   "source": [
    "## student ID: 47489278"
   ]
  },
  {
   "cell_type": "code",
   "execution_count": null,
   "id": "bddff39e-174b-4d84-92ad-2eaf71d5c5b0",
   "metadata": {},
   "outputs": [],
   "source": [
    "In Data Science there are total 4 portfolios. From the portfolio repository I have 10 commits in total where only Portfolio 1 consists one readme file and there is no additional file in other 3 Portfolios."
   ]
  }
 ],
 "metadata": {
  "kernelspec": {
   "display_name": "Python 3 (ipykernel)",
   "language": "python",
   "name": "python3"
  },
  "language_info": {
   "codemirror_mode": {
    "name": "ipython",
    "version": 3
   },
   "file_extension": ".py",
   "mimetype": "text/x-python",
   "name": "python",
   "nbconvert_exporter": "python",
   "pygments_lexer": "ipython3",
   "version": "3.11.3"
  }
 },
 "nbformat": 4,
 "nbformat_minor": 5
}
