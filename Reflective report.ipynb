{
 "cells": [
  {
   "cell_type": "markdown",
   "id": "a8505f4d-c232-45f0-a742-afc1f66aa175",
   "metadata": {},
   "source": [
    "Name: Stuti Shukla5"
   ]
  },
  {
   "cell_type": "markdown",
   "id": "0942ed38-cfc6-4cd5-ae61-16c7613c86ca",
   "metadata": {},
   "source": [
    "Student id: 47489278"
   ]
  },
  {
   "cell_type": "code",
   "execution_count": null,
   "id": "e588045a-c4e0-4fe1-9b5f-c9b277f5d13d",
   "metadata": {},
   "outputs": [],
   "source": []
  }
 ],
 "metadata": {
  "kernelspec": {
   "display_name": "Python 3 (ipykernel)",
   "language": "python",
   "name": "python3"
  },
  "language_info": {
   "codemirror_mode": {
    "name": "ipython",
    "version": 3
   },
   "file_extension": ".py",
   "mimetype": "text/x-python",
   "name": "python",
   "nbconvert_exporter": "python",
   "pygments_lexer": "ipython3",
   "version": "3.11.3"
  }
 },
 "nbformat": 4,
 "nbformat_minor": 5
}
