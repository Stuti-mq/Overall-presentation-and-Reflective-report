{
 "cells": [
  {
   "cell_type": "markdown",
   "id": "0942ed38-cfc6-4cd5-ae61-16c7613c86ca",
   "metadata": {},
   "source": [
    "Name : Stuti Shukla"
   ]
  },
  {
   "cell_type": "markdown",
   "id": "d974c849-1b7f-4263-9873-01c79350713d",
   "metadata": {},
   "source": [
    "Student id: 47489278"
   ]
  },
  {
   "cell_type": "markdown",
   "id": "eb25cac8-3b8a-423c-b37a-b7d9ea50aa2f",
   "metadata": {},
   "source": [
    "### Introduction\n"
   ]
  },
  {
   "cell_type": "markdown",
   "id": "1e69df4d-8fa1-441a-8d2d-dc66ee5de701",
   "metadata": {},
   "source": [
    "My journey into the world of data science has been great, and I'd like to take you through some key highlights, particularly focusing on Portfolio 4. Before I start, it's worth mentioning that while I come from a computer science background, I never worked on git-hub before. In fact, in the first workshop, after I installed the required software I wasn't sure how to start working on repositories, and I had to ask the faculty to help me out. After which I started working.\n",
    "\n",
    "Initially, the world of data science seemed complex, with so much to learn and discover. But here, at this moment, I can say I've come a long way. I've picked up valuable skills in data preprocessing, machine learning, data visualization, and coding - skills.\n",
    "It's been quite a journey approaching problem-solving and getting acquainted with Jupyter Notebooks.\r\n",
    "\r\n",
    "To start, the process of solving problems and using Jupyter Notebooks involves a series of steps. It all begins with defining the problem you want to solve. Then, you move on to gathering and preparing data, setting up your workspace, creating a notebook, importing data and the necessary libraries, and conducting exploratory data analysis. Following this, you delve into modeling, analysis, and iterative refinement. Throughout this process, meticulous documentation and a continuous learning mindset are crucialey.\r\n",
    "\r\n",
    "In terms of skill development, I've been practicing coding consistentlenhancingenting my knowledge through weekly worources. The progress I've made since the beginning of this course has been significant. I now feel much more confident in working with Jupyter Notebooks and employing machine learning techniques to address problems. Python programming has become second nature, and I've acquired proficiency in essential libraries such as Pandas, NumPy, and Scikit-learn, which are indispensable for data analysis and model developmmester, I'm eager to explore further.developed  have a strong interest in Datae fu upskill myselfls 'llntend to engage in real-world challenges, such as those on Kaggle, and experiment with datasets from sources like UCI.\n",
    "\n",
    "In the upcoming sections, I'll share insights into Portfolio 4, including how I chose my dataset, identified the problem, selected models, and what I learned from the awith me."
   ]
  },
  {
   "cell_type": "markdown",
   "id": "88eb325c-e839-4bfc-9f82-677f9f4c65ac",
   "metadata": {},
   "source": [
    "### Why you choose the dataset you have used for your portfolio 4 "
   ]
  },
  {
   "cell_type": "markdown",
   "id": "e78faf24-6135-4333-a208-829bf86b9bdf",
   "metadata": {},
   "source": [
    "#### Insights"
   ]
  },
  {
   "cell_type": "markdown",
   "id": "75ba791b-ea90-47e0-92c1-3a2a66e1920e",
   "metadata": {},
   "source": [
    "In my Portfolio 4, I selected the Student Alcohol Consumption dataset from Kaggle. This choice was based on various factors that made it a compelling and suitable dataset for analysis and modeling.\n",
    "\n",
    "* Relevance: The Student Alcohol Consumption dataset is highly relevant to the educational context and provides insights into the factors that may influence students' alcohol consumption. Understanding these patterns is crucial for educators, parents, and policymakers to address and mitigate the potential risks associated with student alcohol consumption.\n",
    "\n",
    "* Machine Learning Potential: This dataset offers the potential for applying machine learning techniques to predict and understand students' alcohol consumption behavior. By developing predictive models based on features such as family background, school-related factors, and personal attributes, we can gain valuable insights into the factors contributing to alcohol consumption among students.\n",
    "\n",
    "In Portfolio 4, the problem I aimed to address was predicting and understanding student alcohol consumption based on various attributes and features within the dataset. The goal was to develop machine learning models that could provide insights into the factors influencing alcohol consumption, helping educators and policymakers make informed decisions.\n",
    "\n",
    "To tackle this problem, I selected several machine learning models and techniques:\n",
    "\n",
    "* Logistic Regression: Logistic Regression is a widely used classification algorithm that is suitable for predicting binary outcomes. In the context of the Student Alcohol Consumption dataset, I could transform the problem into a binary classification task, such as predicting whether a student is likely to consume alcohol (yes/no). Logistic Regression can be applied to model this binary outcome.\n",
    "\n",
    "* Linear Regression: Linear Regression is a regression algorithm used to model the relationship between a dependent variable and one or more independent variables. In the case of predicting the level of alcohol consumption (which can be treated as a continuous variable), Linear Regression can be employed. By considering various features like family background, study habits, and personal characteristics, Linear Regression can estimate the alcohol consumption level based on the given inputs.\n",
    "\n",
    "* Polynomial Regression: Polynomial Regression is an extension of Linear Regression that accommodates non-linear relationships between features and the target variable. If there are complex interactions or non-linear patterns in the data that cannot be captured by a simple linear model, Polynomial Regression can be utilized to capture these nuances.\n",
    "\n",
    "* Feature Selection Techniques: Just as in my Portfolio 4, I would employ feature selection techniques like Recursive Feature Elimination (RFE) to identify the most relevant features that significantly contribute to predicting alcohol consumption. This step is crucial for improving model performance by focusing on informative features and reducing noise or irrelevant information.\n",
    "\n",
    "In summary, my approach in Portfolio 4, focusing on predicting and understanding student alcohol consumption, involved the selection of appropriate machine learning models and techniques to address the problem effectively and gain valuable insights into the factors influencing this behavior.\n",
    "\n"
   ]
  },
  {
   "cell_type": "markdown",
   "id": "07fdd95d-5aa7-4716-8fd6-fe537911b3b1",
   "metadata": {},
   "source": [
    "#### Conclusion\n",
    "By choosing the Student Alcohol Consumption dataset for my Portfolio 4, I aimed to showcase the power of data-driven decision-making in an educational context. My objective was to illustrate how machine learning can be applied to gain a deeper understanding of factors influencing student alcohol consumption and how this knowledge can be leveraged for better decision-making.\n",
    "\n",
    "Through rigorous analysis and modeling, my goal was to uncover hidden patterns and relationships within the dataset. I aspired to derive actionable insights that could assist educators, parents, and policymakers in addressing student alcohol consumption more effectively. This approach highlights the potential benefits of data-driven strategies in improving the well-being and academic success of students by addressing and mitigating alcohol-related issues."
   ]
  },
  {
   "cell_type": "markdown",
   "id": "aca27ea6-98bc-45d7-887b-014555b6ec70",
   "metadata": {},
   "source": [
    "### Is the result consistent with your intuitive expectation?"
   ]
  },
  {
   "cell_type": "markdown",
   "id": "bc84337e-a4fd-438d-822e-07925b8c37bf",
   "metadata": {},
   "source": [
    "To begin, I conducted a boxplot analysis, revealing that the highest occurrence of student failures falls within the age range of 16 to 18. Subsequently, I computed the Spearman correlation coefficient, which landed at approximately 0.32, indicating a positive correlation between age and student failures. This suggests that as age increases, student failures tend to rise as well.\n",
    "\n",
    "Moving on, I performed regression analysis, resulting in a linear regression RMSE of approximately 0.56 and a polynomial regression RMSE of around 0.59. The comparison shows that the linear regression model outperforms the polynomial regression model, albeit slightly, in predicting student failures based on the provided features.\n",
    "\n",
    "Further, I employed a confusion matrix, and it demonstrated that the linear regression model excels in predicting student failures with high accuracy.\n",
    "\n",
    "In conclusion, these findings align with my initial expectations and underscore the effectiveness of the linear regression model in this context."
   ]
  },
  {
   "cell_type": "code",
   "execution_count": null,
   "id": "a3d00ac3-761c-41fb-afca-80cf8615c5a3",
   "metadata": {},
   "outputs": [],
   "source": []
  }
 ],
 "metadata": {
  "kernelspec": {
   "display_name": "Python 3 (ipykernel)",
   "language": "python",
   "name": "python3"
  },
  "language_info": {
   "codemirror_mode": {
    "name": "ipython",
    "version": 3
   },
   "file_extension": ".py",
   "mimetype": "text/x-python",
   "name": "python",
   "nbconvert_exporter": "python",
   "pygments_lexer": "ipython3",
   "version": "3.11.3"
  }
 },
 "nbformat": 4,
 "nbformat_minor": 5
}
