{
 "cells": [
  {
   "cell_type": "markdown",
   "id": "a8505f4d-c232-45f0-a742-afc1f66aa175",
   "metadata": {},
   "source": [
    "Name: Stuti Shukla   \r\n",
    "Student ID: 44892785"
   ]
  },
  {
   "cell_type": "code",
   "execution_count": null,
   "id": "972d21c1-09ca-4186-8ae5-0a4a54ddfd8c",
   "metadata": {},
   "outputs": [],
   "source": []
  }
 ],
 "metadata": {
  "kernelspec": {
   "display_name": "",
   "name": ""
  },
  "language_info": {
   "name": ""
  }
 },
 "nbformat": 4,
 "nbformat_minor": 5
}
