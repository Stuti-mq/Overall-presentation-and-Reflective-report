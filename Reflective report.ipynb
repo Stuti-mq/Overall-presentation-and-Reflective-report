{
 "cells": [
  {
   "cell_type": "markdown",
   "id": "0942ed38-cfc6-4cd5-ae61-16c7613c86ca",
   "metadata": {},
   "source": [
    "Name : Stuti Shukla"
   ]
  },
  {
   "cell_type": "markdown",
   "id": "d974c849-1b7f-4263-9873-01c79350713d",
   "metadata": {},
   "source": [
    "Student id: 47489278"
   ]
  },
  {
   "cell_type": "code",
   "execution_count": null,
   "id": "1370a093-6c0f-4d56-8455-9ae15ce6f6f6",
   "metadata": {},
   "outputs": [],
   "source": []
  },
  {
   "cell_type": "code",
   "execution_count": null,
   "id": "34d325ad-6ef4-4c28-81f1-940495cdf60f",
   "metadata": {},
   "outputs": [],
   "source": []
  },
  {
   "cell_type": "code",
   "execution_count": null,
   "id": "e588045a-c4e0-4fe1-9b5f-c9b277f5d13d",
   "metadata": {},
   "outputs": [],
   "source": []
  }
 ],
 "metadata": {
  "kernelspec": {
   "display_name": "Python 3 (ipykernel)",
   "language": "python",
   "name": "python3"
  },
  "language_info": {
   "codemirror_mode": {
    "name": "ipython",
    "version": 3
   },
   "file_extension": ".py",
   "mimetype": "text/x-python",
   "name": "python",
   "nbconvert_exporter": "python",
   "pygments_lexer": "ipython3",
   "version": "3.11.3"
  }
 },
 "nbformat": 4,
 "nbformat_minor": 5
}
